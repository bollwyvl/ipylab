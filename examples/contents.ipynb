{
 "cells": [
  {
   "cell_type": "markdown",
   "id": "b0fe59fc-2f42-4ee5-b1cf-d3a73ccd80b2",
   "metadata": {},
   "source": [
    "# Contents"
   ]
  },
  {
   "cell_type": "code",
   "execution_count": null,
   "id": "6451c811-83be-45fc-be07-73eb363b4239",
   "metadata": {},
   "outputs": [],
   "source": [
    "from ipylab import JupyterFrontEnd"
   ]
  },
  {
   "cell_type": "code",
   "execution_count": null,
   "id": "db015374-352c-442b-af4e-81bc8d5e6db8",
   "metadata": {},
   "outputs": [],
   "source": [
    "app = JupyterFrontEnd()"
   ]
  },
  {
   "cell_type": "code",
   "execution_count": null,
   "id": "aff5288d-2cf6-4304-ba94-966480174534",
   "metadata": {},
   "outputs": [],
   "source": [
    "app.contents"
   ]
  },
  {
   "cell_type": "code",
   "execution_count": null,
   "id": "d3dfcf18-c84d-4d5c-b4c9-1d1d37ad15ca",
   "metadata": {},
   "outputs": [],
   "source": [
    "readme = app.contents.get(\"README.md\", content=True)"
   ]
  },
  {
   "cell_type": "code",
   "execution_count": null,
   "id": "e7838972-dde8-40c8-b08a-61ea05e70143",
   "metadata": {},
   "outputs": [],
   "source": [
    "readme.size"
   ]
  },
  {
   "cell_type": "code",
   "execution_count": null,
   "id": "21ca52e3-2f07-4c2a-8fbc-d812702e7b98",
   "metadata": {},
   "outputs": [],
   "source": [
    "readme.content = \"bar\""
   ]
  }
 ],
 "metadata": {
  "kernelspec": {
   "display_name": "Python 3 (ipykernel)",
   "language": "python",
   "name": "python3"
  },
  "language_info": {
   "codemirror_mode": {
    "name": "ipython",
    "version": 3
   },
   "file_extension": ".py",
   "mimetype": "text/x-python",
   "name": "python",
   "nbconvert_exporter": "python",
   "pygments_lexer": "ipython3",
   "version": "3.11.6"
  }
 },
 "nbformat": 4,
 "nbformat_minor": 5
}
